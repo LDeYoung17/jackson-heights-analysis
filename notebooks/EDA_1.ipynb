{
 "cells": [
  {
   "cell_type": "code",
   "execution_count": 1,
   "metadata": {},
   "outputs": [],
   "source": [
    "import pandas as pd\n",
    "import numpy as np\n",
    "from matplotlib import pyplot as plt\n",
    "from scipy import stats as st\n",
    "from math import factorial as ft \n",
    "import plotly.express as px\n",
    "plt.style.use('ggplot')"
   ]
  },
  {
   "cell_type": "code",
   "execution_count": 2,
   "metadata": {},
   "outputs": [],
   "source": [
    "df_demo = pd.read_excel('/Users/admin/Desktop/GitHub/new_repos/jackson-heights-analysis/greystone_plymouth.xlsx', sheet_name='demographics')\n",
    "df_jobs = pd.read_excel('/Users/admin/Desktop/GitHub/new_repos/jackson-heights-analysis/greystone_plymouth.xlsx', sheet_name='occupation')"
   ]
  }
 ],
 "metadata": {
  "kernelspec": {
   "display_name": "base",
   "language": "python",
   "name": "python3"
  },
  "language_info": {
   "codemirror_mode": {
    "name": "ipython",
    "version": 3
   },
   "file_extension": ".py",
   "mimetype": "text/x-python",
   "name": "python",
   "nbconvert_exporter": "python",
   "pygments_lexer": "ipython3",
   "version": "3.11.5"
  },
  "orig_nbformat": 4
 },
 "nbformat": 4,
 "nbformat_minor": 2
}
